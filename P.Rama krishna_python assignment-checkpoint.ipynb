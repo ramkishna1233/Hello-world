{
 "cells": [
  {
   "cell_type": "code",
   "execution_count": 4,
   "metadata": {},
   "outputs": [
    {
     "name": "stdout",
     "output_type": "stream",
     "text": [
      "[1, 2, 3, 4]\n",
      "B\n"
     ]
    }
   ],
   "source": [
    "D = {'A' : [1,2,3,4] , 'B': [5,7,2,5]}\n",
    "def my_num():\n",
    "    for i in range(0,1):\n",
    "        if i <= 1:\n",
    "            print (D['A'])\n",
    "           \n",
    "    print ('B')\n",
    "my_num()\n"
   ]
  },
  {
   "cell_type": "code",
   "execution_count": 2,
   "metadata": {},
   "outputs": [
    {
     "name": "stdout",
     "output_type": "stream",
     "text": [
      "My Home should have below features: \n",
      "Bedroom:\n",
      "\tLight Brand : Phillips\n",
      "\tFan Brand : Usha\n",
      "\tHow many bedrooms : 2.0\n",
      "Kitchen\n",
      "\tBurner Company : Prestige\n",
      "\tHow many sinks : 2.0\n",
      "Hall:\n",
      "\tTV: SONY\n",
      "Bathroom:\n",
      "\tShower Brand : Kohler\n",
      "\tsink type : Graphite sink\n"
     ]
    }
   ],
   "source": [
    "class home:\n",
    "    def Bedroom(self):\n",
    "        print(\"My Home should have below features: \")\n",
    "        print(\"Bedroom:\")\n",
    "        print(\"\\tLight Brand : Phillips\")\n",
    "        print(\"\\tFan Brand : Usha\")\n",
    "        print(\"\\tHow many bedrooms : 2.0\")\n",
    "        \n",
    "    def Kitchen(self):\n",
    "        print(\"Kitchen\")\n",
    "        print(\"\\tBurner Company : Prestige\")\n",
    "        print(\"\\tHow many sinks : 2.0\")\n",
    "        \n",
    "    def Hall(self):\n",
    "        print(\"Hall:\")\n",
    "        print(\"\\tTV: SONY\")\n",
    "        \n",
    "    def Bathroom(self):\n",
    "        print(\"Bathroom:\")\n",
    "        print(\"\\tShower Brand : Kohler\")\n",
    "        print(\"\\tsink type : Graphite sink\")\n",
    "        \n",
    "h = home()\n",
    "h.Bedroom()\n",
    "h.Kitchen()\n",
    "h.Hall()\n",
    "h.Bathroom()"
   ]
  },
  {
   "cell_type": "code",
   "execution_count": null,
   "metadata": {},
   "outputs": [],
   "source": []
  },
  {
   "cell_type": "code",
   "execution_count": null,
   "metadata": {},
   "outputs": [],
   "source": []
  }
 ],
 "metadata": {
  "kernelspec": {
   "display_name": "Python 3",
   "language": "python",
   "name": "python3"
  },
  "language_info": {
   "codemirror_mode": {
    "name": "ipython",
    "version": 3
   },
   "file_extension": ".py",
   "mimetype": "text/x-python",
   "name": "python",
   "nbconvert_exporter": "python",
   "pygments_lexer": "ipython3",
   "version": "3.8.3"
  }
 },
 "nbformat": 4,
 "nbformat_minor": 4
}
